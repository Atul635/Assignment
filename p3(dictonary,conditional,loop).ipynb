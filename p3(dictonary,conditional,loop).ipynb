{
 "cells": [
  {
   "cell_type": "code",
   "execution_count": 1,
   "id": "ad9185ab-89a2-48cc-9dd2-6d758e9310f7",
   "metadata": {},
   "outputs": [],
   "source": [
    "d = {}"
   ]
  },
  {
   "cell_type": "code",
   "execution_count": 2,
   "id": "5e02f41e-1b44-465e-b369-1c5ff356ad1b",
   "metadata": {},
   "outputs": [
    {
     "data": {
      "text/plain": [
       "dict"
      ]
     },
     "execution_count": 2,
     "metadata": {},
     "output_type": "execute_result"
    }
   ],
   "source": [
    "type(d)"
   ]
  },
  {
   "cell_type": "code",
   "execution_count": 3,
   "id": "e4dfc4d7-1856-4272-8895-3b599736eafe",
   "metadata": {},
   "outputs": [],
   "source": [
    "d1 = {'key' : \"sudh\"}"
   ]
  },
  {
   "cell_type": "code",
   "execution_count": 4,
   "id": "880c9005-1d09-4e94-b6f4-4b345832ab90",
   "metadata": {},
   "outputs": [
    {
     "data": {
      "text/plain": [
       "{'key': 'sudh'}"
      ]
     },
     "execution_count": 4,
     "metadata": {},
     "output_type": "execute_result"
    }
   ],
   "source": [
    "d1"
   ]
  },
  {
   "cell_type": "code",
   "execution_count": 5,
   "id": "ebb43189-31a5-4294-a5ec-625e773c0c5d",
   "metadata": {},
   "outputs": [],
   "source": [
    "d2 = {'name' : \"atul\", \"email\" : \"at@gmail.com\", \"number\" :12345}"
   ]
  },
  {
   "cell_type": "code",
   "execution_count": 6,
   "id": "be052072-a5ee-4a7f-a499-8ab6c30c4ac5",
   "metadata": {},
   "outputs": [
    {
     "data": {
      "text/plain": [
       "{'name': 'atul', 'email': 'at@gmail.com', 'number': 12345}"
      ]
     },
     "execution_count": 6,
     "metadata": {},
     "output_type": "execute_result"
    }
   ],
   "source": [
    "d2"
   ]
  },
  {
   "cell_type": "code",
   "execution_count": 7,
   "id": "b6652ce8-af3f-42d6-ba50-e3ca4878381e",
   "metadata": {},
   "outputs": [],
   "source": [
    "d3 = {234: \"sudh\", '_wer' : \"kumar\",True :24234}"
   ]
  },
  {
   "cell_type": "code",
   "execution_count": 8,
   "id": "3b3d864b-3b92-4bb8-94ee-483c93b15dcf",
   "metadata": {},
   "outputs": [
    {
     "data": {
      "text/plain": [
       "{234: 'sudh', '_wer': 'kumar', True: 24234}"
      ]
     },
     "execution_count": 8,
     "metadata": {},
     "output_type": "execute_result"
    }
   ],
   "source": [
    "d3"
   ]
  },
  {
   "cell_type": "code",
   "execution_count": 9,
   "id": "1456a08d-feae-4036-907f-5e98452a5164",
   "metadata": {},
   "outputs": [
    {
     "data": {
      "text/plain": [
       "'sudh'"
      ]
     },
     "execution_count": 9,
     "metadata": {},
     "output_type": "execute_result"
    }
   ],
   "source": [
    "d3[234]\n",
    "#in this indexing will not work so if we want a particular data \n",
    "#then for that we have to use key value."
   ]
  },
  {
   "cell_type": "code",
   "execution_count": 10,
   "id": "c3f2c490-e75f-47ea-b12a-eac796ab44a5",
   "metadata": {},
   "outputs": [
    {
     "data": {
      "text/plain": [
       "24234"
      ]
     },
     "execution_count": 10,
     "metadata": {},
     "output_type": "execute_result"
    }
   ],
   "source": [
    "d3[True]"
   ]
  },
  {
   "cell_type": "code",
   "execution_count": 11,
   "id": "2eda7c37-51d9-473e-8a65-0f0f0c7197e1",
   "metadata": {},
   "outputs": [
    {
     "data": {
      "text/plain": [
       "24234"
      ]
     },
     "execution_count": 11,
     "metadata": {},
     "output_type": "execute_result"
    }
   ],
   "source": [
    "d3[1]\n",
    "# 1 is nothing but true and 0 is false"
   ]
  },
  {
   "cell_type": "code",
   "execution_count": 12,
   "id": "ef7d3fd8-44aa-4525-a614-2b312a9f26b8",
   "metadata": {},
   "outputs": [],
   "source": [
    "d4 = {'name': \"atul\", 'mail': \"aa@gmail.com\", 'name': \"aahil\"}"
   ]
  },
  {
   "cell_type": "code",
   "execution_count": 13,
   "id": "6c303df5-3c23-4a16-af09-0dedac9f740d",
   "metadata": {},
   "outputs": [
    {
     "data": {
      "text/plain": [
       "'aahil'"
      ]
     },
     "execution_count": 13,
     "metadata": {},
     "output_type": "execute_result"
    }
   ],
   "source": [
    "d4['name']"
   ]
  },
  {
   "cell_type": "code",
   "execution_count": 14,
   "id": "a00d261f-b636-4f7f-b4aa-30933820978b",
   "metadata": {},
   "outputs": [],
   "source": [
    "#key value should be unique otherwise it will override\n",
    "#as seen in the above sentence the key value is same (name)"
   ]
  },
  {
   "cell_type": "code",
   "execution_count": 15,
   "id": "d13c21f8-ffc9-4e87-945d-0cf841140dcb",
   "metadata": {},
   "outputs": [],
   "source": [
    "d5 ={\"company\" : \"pwskills\", \"course\" :[\"web dev\",\"data science\",\"java with dsa\"]}"
   ]
  },
  {
   "cell_type": "code",
   "execution_count": 16,
   "id": "4d20f80b-b245-4fea-a946-b1a772a7dac2",
   "metadata": {},
   "outputs": [
    {
     "data": {
      "text/plain": [
       "{'company': 'pwskills', 'course': ['web dev', 'data science', 'java with dsa']}"
      ]
     },
     "execution_count": 16,
     "metadata": {},
     "output_type": "execute_result"
    }
   ],
   "source": [
    "d5"
   ]
  },
  {
   "cell_type": "code",
   "execution_count": 17,
   "id": "b58df09f-7efe-4482-af43-80711dd9f54c",
   "metadata": {},
   "outputs": [
    {
     "data": {
      "text/plain": [
       "['web dev', 'data science', 'java with dsa']"
      ]
     },
     "execution_count": 17,
     "metadata": {},
     "output_type": "execute_result"
    }
   ],
   "source": [
    "d5['course']"
   ]
  },
  {
   "cell_type": "code",
   "execution_count": 18,
   "id": "8c9eb168-8794-47ab-aaa5-f1df952fc8e1",
   "metadata": {},
   "outputs": [
    {
     "data": {
      "text/plain": [
       "'java with dsa'"
      ]
     },
     "execution_count": 18,
     "metadata": {},
     "output_type": "execute_result"
    }
   ],
   "source": [
    "d5['course'][2]"
   ]
  },
  {
   "cell_type": "code",
   "execution_count": 19,
   "id": "dde065e1-c75f-4a30-8474-6ea0a61c8d41",
   "metadata": {},
   "outputs": [],
   "source": [
    "d6 ={\"number\" : [2,34,3,34,45],\"assignment\" :(1,2,3,4,5,6),\"launch date\":{28,12,14},\"class_time\":{\"web_dev\":8,\"dsa\":8, \"java with dsa\":7}}"
   ]
  },
  {
   "cell_type": "code",
   "execution_count": 20,
   "id": "92ce1c03-1c90-41eb-8cfe-fc598a0dc7a7",
   "metadata": {},
   "outputs": [
    {
     "data": {
      "text/plain": [
       "{'number': [2, 34, 3, 34, 45],\n",
       " 'assignment': (1, 2, 3, 4, 5, 6),\n",
       " 'launch date': {12, 14, 28},\n",
       " 'class_time': {'web_dev': 8, 'dsa': 8, 'java with dsa': 7}}"
      ]
     },
     "execution_count": 20,
     "metadata": {},
     "output_type": "execute_result"
    }
   ],
   "source": [
    "d6"
   ]
  },
  {
   "cell_type": "code",
   "execution_count": 21,
   "id": "d704a938-595e-4fee-93c7-63246f4a490f",
   "metadata": {},
   "outputs": [
    {
     "data": {
      "text/plain": [
       "7"
      ]
     },
     "execution_count": 21,
     "metadata": {},
     "output_type": "execute_result"
    }
   ],
   "source": [
    "d6['class_time']['java with dsa']"
   ]
  },
  {
   "cell_type": "code",
   "execution_count": 22,
   "id": "064226b9-6613-4eef-bf28-aa618bfc7759",
   "metadata": {},
   "outputs": [],
   "source": [
    " d6['mentor'] = ['sudhanshu','krish','anurag']"
   ]
  },
  {
   "cell_type": "code",
   "execution_count": 23,
   "id": "4b237455-db07-4982-819a-c80729bda08b",
   "metadata": {},
   "outputs": [
    {
     "data": {
      "text/plain": [
       "{'number': [2, 34, 3, 34, 45],\n",
       " 'assignment': (1, 2, 3, 4, 5, 6),\n",
       " 'launch date': {12, 14, 28},\n",
       " 'class_time': {'web_dev': 8, 'dsa': 8, 'java with dsa': 7},\n",
       " 'mentor': ['sudhanshu', 'krish', 'anurag']}"
      ]
     },
     "execution_count": 23,
     "metadata": {},
     "output_type": "execute_result"
    }
   ],
   "source": [
    "d6"
   ]
  },
  {
   "cell_type": "code",
   "execution_count": 24,
   "id": "0c3ffd58-5fc0-41e3-8957-96576398443e",
   "metadata": {},
   "outputs": [],
   "source": [
    "del d6['number']"
   ]
  },
  {
   "cell_type": "code",
   "execution_count": 25,
   "id": "7cb54f5c-cd91-4d90-aea1-3fe257ffd6fe",
   "metadata": {},
   "outputs": [
    {
     "data": {
      "text/plain": [
       "{'assignment': (1, 2, 3, 4, 5, 6),\n",
       " 'launch date': {12, 14, 28},\n",
       " 'class_time': {'web_dev': 8, 'dsa': 8, 'java with dsa': 7},\n",
       " 'mentor': ['sudhanshu', 'krish', 'anurag']}"
      ]
     },
     "execution_count": 25,
     "metadata": {},
     "output_type": "execute_result"
    }
   ],
   "source": [
    "d6"
   ]
  },
  {
   "cell_type": "code",
   "execution_count": 26,
   "id": "92c56a4c-0783-4404-bce7-61ddd0fe3b50",
   "metadata": {},
   "outputs": [
    {
     "ename": "NameError",
     "evalue": "name 'C' is not defined",
     "output_type": "error",
     "traceback": [
      "\u001b[0;31m---------------------------------------------------------------------------\u001b[0m",
      "\u001b[0;31mNameError\u001b[0m                                 Traceback (most recent call last)",
      "Cell \u001b[0;32mIn[26], line 1\u001b[0m\n\u001b[0;32m----> 1\u001b[0m \u001b[43mC\u001b[49m\n",
      "\u001b[0;31mNameError\u001b[0m: name 'C' is not defined"
     ]
    }
   ],
   "source": [
    "C"
   ]
  },
  {
   "cell_type": "code",
   "execution_count": null,
   "id": "e7964496-5a60-491b-91a9-cba241d9fefc",
   "metadata": {},
   "outputs": [],
   "source": [
    "d6.values()"
   ]
  },
  {
   "cell_type": "code",
   "execution_count": 27,
   "id": "8aa90e47-d263-43a7-a0a5-e251d5c4d1bd",
   "metadata": {},
   "outputs": [
    {
     "data": {
      "text/plain": [
       "dict_items([('assignment', (1, 2, 3, 4, 5, 6)), ('launch date', {28, 12, 14}), ('class_time', {'web_dev': 8, 'dsa': 8, 'java with dsa': 7}), ('mentor', ['sudhanshu', 'krish', 'anurag'])])"
      ]
     },
     "execution_count": 27,
     "metadata": {},
     "output_type": "execute_result"
    }
   ],
   "source": [
    "d6.items()"
   ]
  },
  {
   "cell_type": "code",
   "execution_count": 28,
   "id": "85664727-16e7-4607-8886-d47be843833c",
   "metadata": {},
   "outputs": [
    {
     "data": {
      "text/plain": [
       "[(1, 2, 3, 4, 5, 6),\n",
       " {12, 14, 28},\n",
       " {'web_dev': 8, 'dsa': 8, 'java with dsa': 7},\n",
       " ['sudhanshu', 'krish', 'anurag']]"
      ]
     },
     "execution_count": 28,
     "metadata": {},
     "output_type": "execute_result"
    }
   ],
   "source": [
    "list(d6.values())"
   ]
  },
  {
   "cell_type": "code",
   "execution_count": 29,
   "id": "b8c80da6-2791-421f-b03e-8a0d1925bfaa",
   "metadata": {},
   "outputs": [
    {
     "data": {
      "text/plain": [
       "(1, 2, 3, 4, 5, 6)"
      ]
     },
     "execution_count": 29,
     "metadata": {},
     "output_type": "execute_result"
    }
   ],
   "source": [
    " d6.pop('assignment')"
   ]
  },
  {
   "cell_type": "code",
   "execution_count": 30,
   "id": "c2b61c1a-c634-442d-a100-131bdc116ec8",
   "metadata": {},
   "outputs": [
    {
     "data": {
      "text/plain": [
       "{'launch date': {12, 14, 28},\n",
       " 'class_time': {'web_dev': 8, 'dsa': 8, 'java with dsa': 7},\n",
       " 'mentor': ['sudhanshu', 'krish', 'anurag']}"
      ]
     },
     "execution_count": 30,
     "metadata": {},
     "output_type": "execute_result"
    }
   ],
   "source": [
    "d6"
   ]
  },
  {
   "cell_type": "code",
   "execution_count": 31,
   "id": "09313049-1ece-406d-a6d7-24251f848476",
   "metadata": {},
   "outputs": [
    {
     "ename": "TypeError",
     "evalue": "pop expected at least 1 argument, got 0",
     "output_type": "error",
     "traceback": [
      "\u001b[0;31m---------------------------------------------------------------------------\u001b[0m",
      "\u001b[0;31mTypeError\u001b[0m                                 Traceback (most recent call last)",
      "Cell \u001b[0;32mIn[31], line 1\u001b[0m\n\u001b[0;32m----> 1\u001b[0m \u001b[43md6\u001b[49m\u001b[38;5;241;43m.\u001b[39;49m\u001b[43mpop\u001b[49m\u001b[43m(\u001b[49m\u001b[43m)\u001b[49m\n",
      "\u001b[0;31mTypeError\u001b[0m: pop expected at least 1 argument, got 0"
     ]
    }
   ],
   "source": [
    "d6.pop()"
   ]
  },
  {
   "cell_type": "code",
   "execution_count": 32,
   "id": "6a59d989-8a27-427c-81c8-717fcccc7418",
   "metadata": {},
   "outputs": [
    {
     "name": "stdout",
     "output_type": "stream",
     "text": [
      "you will be a part of A1 batch\n"
     ]
    }
   ],
   "source": [
    "marks = 64\n",
    "if marks >= 80 :\n",
    "        print(\"you will be a part of A0 batch\")\n",
    "elif marks >= 60 and marks <80:\n",
    "    print(\"you will be a part of A1 batch\")\n",
    "elif marks >= 40 and marks <60:\n",
    "    print(\"you will be a part of A2 batch\")\n",
    "else :\n",
    "    print(\"you will be a part of A3 batch\")"
   ]
  },
  {
   "cell_type": "code",
   "execution_count": 33,
   "id": "74899b99-7915-4019-b70f-d3f0429124d4",
   "metadata": {},
   "outputs": [
    {
     "name": "stdin",
     "output_type": "stream",
     "text": [
      "enter your marks 90\n"
     ]
    },
    {
     "name": "stdout",
     "output_type": "stream",
     "text": [
      "you will be a part of A0 batch\n"
     ]
    }
   ],
   "source": [
    "marks = int(input(\"enter your marks\"))\n",
    "if marks >= 80 :\n",
    "        print(\"you will be a part of A0 batch\")\n",
    "elif marks >= 60 and marks <80:\n",
    "    print(\"you will be a part of A1 batch\")\n",
    "elif marks >= 40 and marks <60:\n",
    "    print(\"you will be a part of A2 batch\")\n",
    "else :\n",
    "    print(\"you will be a part of A3 batch\")"
   ]
  },
  {
   "cell_type": "code",
   "execution_count": 34,
   "id": "05d3eb01-51bd-4305-9c89-7c7c4cd119b3",
   "metadata": {},
   "outputs": [
    {
     "name": "stdin",
     "output_type": "stream",
     "text": [
      "enter price 1200\n"
     ]
    },
    {
     "name": "stdout",
     "output_type": "stream",
     "text": [
      "i will not purchase\n"
     ]
    }
   ],
   "source": [
    "price = int(input(\"enter price\"))\n",
    "if price > 1000:\n",
    "     print(\"i will not purchase\")       "
   ]
  },
  {
   "cell_type": "code",
   "execution_count": 35,
   "id": "526783f1-86e2-458c-99a8-961b0a5ae036",
   "metadata": {},
   "outputs": [
    {
     "name": "stdin",
     "output_type": "stream",
     "text": [
      "enter price 1234\n"
     ]
    },
    {
     "name": "stdout",
     "output_type": "stream",
     "text": [
      "i will not purchase\n"
     ]
    }
   ],
   "source": [
    "price = int(input(\"enter price\"))\n",
    "if price > 1000:\n",
    "     print(\"i will not purchase\")   \n",
    "else :\n",
    "    print(\"i will purchase\")"
   ]
  },
  {
   "cell_type": "code",
   "execution_count": 36,
   "id": "a100b7eb-649c-4dae-80e7-d9af32a3fe2f",
   "metadata": {},
   "outputs": [
    {
     "name": "stdin",
     "output_type": "stream",
     "text": [
      "enter price 2345\n"
     ]
    },
    {
     "name": "stdout",
     "output_type": "stream",
     "text": [
      "i will nor purchase\n"
     ]
    }
   ],
   "source": [
    "price = int(input(\"enter price\"))\n",
    "if price > 1000:\n",
    "    print(\"i will nor purchase\")\n",
    "    if price >5000:\n",
    "        print(\"this is too much\")\n",
    "    elif price < 2000:\n",
    "        print(\"it's ok\")\n",
    "elif price < 1000 :\n",
    "    print(\"i will purchase\")\n",
    "else:\n",
    "    print(\"not intersted\") "
   ]
  },
  {
   "cell_type": "code",
   "execution_count": 37,
   "id": "add85994-670d-45d6-9d86-86e0f441f9b2",
   "metadata": {},
   "outputs": [],
   "source": [
    "l = [1,2,3,4,5,6,7,8]"
   ]
  },
  {
   "cell_type": "code",
   "execution_count": 38,
   "id": "b72f1273-6951-49d8-bf67-45a6f7be98a0",
   "metadata": {},
   "outputs": [
    {
     "name": "stdout",
     "output_type": "stream",
     "text": [
      "1\n",
      "2\n",
      "3\n",
      "4\n",
      "5\n",
      "6\n",
      "7\n",
      "8\n"
     ]
    }
   ],
   "source": [
    " for i in l:\n",
    "        print(i)"
   ]
  },
  {
   "cell_type": "code",
   "execution_count": 44,
   "id": "f81aa2f7-7dd6-4376-af28-545fc683085c",
   "metadata": {},
   "outputs": [
    {
     "name": "stdout",
     "output_type": "stream",
     "text": [
      "3\n",
      "4\n",
      "5\n",
      "6\n",
      "7\n",
      "8\n",
      "9\n",
      "10\n"
     ]
    }
   ],
   "source": [
    " for i in l:\n",
    "        print(i+2)\n",
    "        "
   ]
  },
  {
   "cell_type": "code",
   "execution_count": 50,
   "id": "31d409da-7f3b-44c6-81eb-e3c112c97483",
   "metadata": {},
   "outputs": [
    {
     "name": "stdout",
     "output_type": "stream",
     "text": [
      "2\n",
      "3\n",
      "4\n",
      "5\n",
      "6\n",
      "7\n",
      "8\n",
      "9\n"
     ]
    },
    {
     "data": {
      "text/plain": [
       "[2, 3, 4, 5, 6, 7, 8, 9]"
      ]
     },
     "execution_count": 50,
     "metadata": {},
     "output_type": "execute_result"
    }
   ],
   "source": [
    "l1 = []\n",
    "for i in l:\n",
    "    print(i+1)\n",
    "    l1.append(i+1)\n",
    "l1    "
   ]
  },
  {
   "cell_type": "code",
   "execution_count": 52,
   "id": "e62fef51-cd43-4397-bc6c-bae2356cd67a",
   "metadata": {},
   "outputs": [],
   "source": [
    "l = [\"sudh\",\"kumar\",\"pwskilss\",\"course\"]"
   ]
  },
  {
   "cell_type": "code",
   "execution_count": 61,
   "id": "79e06ca7-c1fa-4da7-a8f4-952ea6cd70b3",
   "metadata": {},
   "outputs": [
    {
     "name": "stdout",
     "output_type": "stream",
     "text": [
      "sudh\n",
      "kumar\n",
      "pwskilss\n",
      "course\n"
     ]
    },
    {
     "data": {
      "text/plain": [
       "['COURSE', 'PWSKILSS', 'KUMAR', 'SUDH']"
      ]
     },
     "execution_count": 61,
     "metadata": {},
     "output_type": "execute_result"
    }
   ],
   "source": [
    "l7 = []\n",
    "for i in l:\n",
    "    print(i)\n",
    "    l7.append(i.upper())\n",
    "l7[::-1]"
   ]
  },
  {
   "cell_type": "code",
   "execution_count": 62,
   "id": "eafaf119-f5d8-4b8c-be39-3020fb35d2ec",
   "metadata": {},
   "outputs": [],
   "source": [
    "l = [1,2,3,4,5,\"sudh\",\"kumar\",324,34.456,\"abc\"]"
   ]
  },
  {
   "cell_type": "code",
   "execution_count": 64,
   "id": "b5fae05b-ed70-4fb6-beb9-c588119245ba",
   "metadata": {},
   "outputs": [],
   "source": [
    "l1_num= []\n",
    "l2_str= []\n",
    "for i in l:\n",
    "    if type(i) == int or type(i) == float :\n",
    "        l1_num.append(i)\n",
    "    else :\n",
    "        l2_str.append(i)"
   ]
  },
  {
   "cell_type": "code",
   "execution_count": 65,
   "id": "061f4a84-fa2b-4e1d-a0ca-40a0e6c5228d",
   "metadata": {},
   "outputs": [
    {
     "data": {
      "text/plain": [
       "[1, 2, 3, 4, 5, 324, 34.456]"
      ]
     },
     "execution_count": 65,
     "metadata": {},
     "output_type": "execute_result"
    }
   ],
   "source": [
    "l1_num"
   ]
  },
  {
   "cell_type": "code",
   "execution_count": 67,
   "id": "c6b82de2-df37-4168-83c4-0cb070eedceb",
   "metadata": {},
   "outputs": [
    {
     "data": {
      "text/plain": [
       "['sudh', 'kumar', 'abc']"
      ]
     },
     "execution_count": 67,
     "metadata": {},
     "output_type": "execute_result"
    }
   ],
   "source": [
    "l2_str"
   ]
  },
  {
   "cell_type": "code",
   "execution_count": null,
   "id": "e2026ffc-04ad-406f-ab4f-dab1e64b5d22",
   "metadata": {},
   "outputs": [],
   "source": []
  }
 ],
 "metadata": {
  "kernelspec": {
   "display_name": "Python 3 (ipykernel)",
   "language": "python",
   "name": "python3"
  },
  "language_info": {
   "codemirror_mode": {
    "name": "ipython",
    "version": 3
   },
   "file_extension": ".py",
   "mimetype": "text/x-python",
   "name": "python",
   "nbconvert_exporter": "python",
   "pygments_lexer": "ipython3",
   "version": "3.10.8"
  }
 },
 "nbformat": 4,
 "nbformat_minor": 5
}
